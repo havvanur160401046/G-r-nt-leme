{
 "cells": [
  {
   "cell_type": "code",
   "execution_count": 1,
   "metadata": {},
   "outputs": [
    {
     "data": {
      "text/plain": [
       "([1, 3], [2, -3])"
      ]
     },
     "execution_count": 1,
     "metadata": {},
     "output_type": "execute_result"
    }
   ],
   "source": [
    "v_1=[1,3]\n",
    "v_2=[2,-3]\n",
    "v_1,v_2"
   ]
  },
  {
   "cell_type": "code",
   "execution_count": 2,
   "metadata": {},
   "outputs": [
    {
     "data": {
      "text/plain": [
       "[1, 3, 2, -3]"
      ]
     },
     "execution_count": 2,
     "metadata": {},
     "output_type": "execute_result"
    }
   ],
   "source": [
    "v_1+v_2  # iki vektörü birleştiriyor ( [1, 3, 2, -3] )"
   ]
  },
  {
   "cell_type": "code",
   "execution_count": 3,
   "metadata": {},
   "outputs": [],
   "source": [
    "def my_add(vector_1,vector_2):     # uzunluğu bilinen\n",
    "    vector_3=[0,0]\n",
    "    vector_3[0]=vector_1[0]+vector_2[0] #ilk elemanları topluyor\n",
    "    vector_3[1]=vector_1[1]+vector_2[1] #ikinci elemanları topluyor\n",
    "    \n",
    "    return vector_3 # [3,0]"
   ]
  },
  {
   "cell_type": "code",
   "execution_count": 4,
   "metadata": {},
   "outputs": [],
   "source": [
    "def my_add_1(vec_1,vec_2):  #uzunluğu bilinmeyen\n",
    "    \n",
    "    s=len(vec_1)\n",
    "    result_vec=[]\n",
    "    \n",
    "    for i in range (s):\n",
    "        temp=vec_1[i]+vec_2[i]\n",
    "        result_vec.append(temp)\n",
    "    \n",
    "    return result_vec # [3,0]"
   ]
  },
  {
   "cell_type": "code",
   "execution_count": 5,
   "metadata": {},
   "outputs": [],
   "source": [
    "import random\n",
    "def my_create_vectors(m=5,n=2):\n",
    "    m,n=2,3 #iki tane 3 boyutlu liste\n",
    "    my_vec=[]\n",
    "    for i in range(m):\n",
    "        my_vec.append([])\n",
    "        for j in range(n):\n",
    "            t=random.randint(-10,10)\n",
    "            my_vec[i].append(t) #ilk önce ilk vektörü daha sonra ikinci vektörü oluşturuyor.\n",
    "            #pass\n",
    "    return my_vec        \n",
    "\n"
   ]
  },
  {
   "cell_type": "code",
   "execution_count": 15,
   "metadata": {},
   "outputs": [
    {
     "data": {
      "text/plain": [
       "[[-4, -3, 8], [6, -10, -10]]"
      ]
     },
     "execution_count": 15,
     "metadata": {},
     "output_type": "execute_result"
    }
   ],
   "source": [
    "my_create_vectors()\n"
   ]
  },
  {
   "cell_type": "code",
   "execution_count": 16,
   "metadata": {},
   "outputs": [
    {
     "data": {
      "text/plain": [
       "[-1, 0]"
      ]
     },
     "execution_count": 16,
     "metadata": {},
     "output_type": "execute_result"
    }
   ],
   "source": [
    "my_add(v_1,v_2)\n"
   ]
  },
  {
   "cell_type": "code",
   "execution_count": 17,
   "metadata": {},
   "outputs": [
    {
     "data": {
      "text/plain": [
       "[-1, 0, 7]"
      ]
     },
     "execution_count": 17,
     "metadata": {},
     "output_type": "execute_result"
    }
   ],
   "source": [
    "my_add_1(v_1,v_2)\n"
   ]
  },
  {
   "cell_type": "code",
   "execution_count": 18,
   "metadata": {},
   "outputs": [
    {
     "data": {
      "text/plain": [
       "[3, 0, 7]"
      ]
     },
     "execution_count": 18,
     "metadata": {},
     "output_type": "execute_result"
    }
   ],
   "source": [
    "v_1=[1,3,1]\n",
    "v_2=[2,-3,6]\n",
    "my_add_1(v_1,v_2)"
   ]
  },
  {
   "cell_type": "code",
   "execution_count": 7,
   "metadata": {},
   "outputs": [],
   "source": [
    "def my_center(vec_1,vec_2): #vektörlerin her bir elemanları için ortalamalarını buluyor\n",
    "    \n",
    "    s=len(vec_1)\n",
    "    result_vec=[]\n",
    "    \n",
    "    for i in range (s):\n",
    "        temp=(vec_1[i]+vec_2[i])/2\n",
    "        result_vec.append(temp)\n",
    "    return result_vec\n",
    "\n"
   ]
  },
  {
   "cell_type": "code",
   "execution_count": 8,
   "metadata": {},
   "outputs": [
    {
     "data": {
      "text/plain": [
       "[-0.5, 0.0, 3.5]"
      ]
     },
     "execution_count": 8,
     "metadata": {},
     "output_type": "execute_result"
    }
   ],
   "source": [
    "\n",
    "v_1=[1,3,1]\n",
    "v_2=[-2,-3,6]\n",
    "my_center(v_1,v_2)\n"
   ]
  },
  {
   "cell_type": "code",
   "execution_count": 9,
   "metadata": {},
   "outputs": [],
   "source": [
    "def my_distance(v_1,v_2): #vektörler arası uzaklığı hesaplıyor\n",
    "    s=len(v_1)\n",
    "    t=0\n",
    "    for i in range(s):\n",
    "        t=t+(v_1[i]-v_2[i])**2\n",
    "    return t**0.5\n"
   ]
  },
  {
   "cell_type": "code",
   "execution_count": 10,
   "metadata": {},
   "outputs": [
    {
     "data": {
      "text/plain": [
       "5.0"
      ]
     },
     "execution_count": 10,
     "metadata": {},
     "output_type": "execute_result"
    }
   ],
   "source": [
    "vector_1=[0,4]\n",
    "vector_2=[3,0]\n",
    "my_distance(vector_1,vector_2)"
   ]
  },
  {
   "cell_type": "code",
   "execution_count": 11,
   "metadata": {},
   "outputs": [
    {
     "data": {
      "text/plain": [
       "5.0"
      ]
     },
     "execution_count": 11,
     "metadata": {},
     "output_type": "execute_result"
    }
   ],
   "source": [
    "vector_3=[0,4,0]\n",
    "vector_4=[3,0,0]\n",
    "my_distance(vector_1,vector_2)"
   ]
  },
  {
   "cell_type": "code",
   "execution_count": 12,
   "metadata": {},
   "outputs": [],
   "source": []
  },
  {
   "cell_type": "code",
   "execution_count": null,
   "metadata": {},
   "outputs": [],
   "source": []
  },
  {
   "cell_type": "code",
   "execution_count": null,
   "metadata": {},
   "outputs": [],
   "source": []
  },
  {
   "cell_type": "code",
   "execution_count": null,
   "metadata": {},
   "outputs": [],
   "source": []
  }
 ],
 "metadata": {
  "kernelspec": {
   "display_name": "Python 3",
   "language": "python",
   "name": "python3"
  },
  "language_info": {
   "codemirror_mode": {
    "name": "ipython",
    "version": 3
   },
   "file_extension": ".py",
   "mimetype": "text/x-python",
   "name": "python",
   "nbconvert_exporter": "python",
   "pygments_lexer": "ipython3",
   "version": "3.7.3"
  }
 },
 "nbformat": 4,
 "nbformat_minor": 2
}
