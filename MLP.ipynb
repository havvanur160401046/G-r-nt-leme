{
 "cells": [
  {
   "cell_type": "code",
   "execution_count": 1,
   "metadata": {},
   "outputs": [
    {
     "name": "stderr",
     "output_type": "stream",
     "text": [
      "C:\\Users\\HAVVANUR\\Anaconda3\\lib\\site-packages\\sklearn\\utils\\deprecation.py:85: DeprecationWarning: Function fetch_mldata is deprecated; fetch_mldata was deprecated in version 0.20 and will be removed in version 0.22. Please use fetch_openml.\n",
      "  warnings.warn(msg, category=DeprecationWarning)\n",
      "C:\\Users\\HAVVANUR\\Anaconda3\\lib\\site-packages\\sklearn\\utils\\deprecation.py:85: DeprecationWarning: Function mldata_filename is deprecated; mldata_filename was deprecated in version 0.20 and will be removed in version 0.22. Please use fetch_openml.\n",
      "  warnings.warn(msg, category=DeprecationWarning)\n"
     ]
    },
    {
     "data": {
      "text/plain": [
       "sklearn.utils.Bunch"
      ]
     },
     "execution_count": 1,
     "metadata": {},
     "output_type": "execute_result"
    }
   ],
   "source": [
    "\n",
    "from sklearn.datasets import fetch_mldata\n",
    "\n",
    "mnist = fetch_mldata('MNIST original')\n",
    "X, y = mnist[\"data\"], mnist[\"target\"]\n",
    "type(mnist)\n",
    "\n"
   ]
  },
  {
   "cell_type": "code",
   "execution_count": 2,
   "metadata": {},
   "outputs": [],
   "source": [
    "import numpy as np\n",
    "y_new = np.zeros(y.shape)\n",
    "y_new[np.where(y == 0.0)[0]] = 1\n",
    "y = y_new\n",
    "\n"
   ]
  },
  {
   "cell_type": "code",
   "execution_count": 3,
   "metadata": {},
   "outputs": [],
   "source": [
    "m = 60000\n",
    "m_test = X.shape[0] - m\n",
    "\n",
    "X_train, X_test = X[:m].T, X[m:].T\n",
    "y_train, y_test = y[:m].reshape(1,m), y[m:].reshape(1,m_test)\n",
    "\n"
   ]
  },
  {
   "cell_type": "code",
   "execution_count": 4,
   "metadata": {},
   "outputs": [],
   "source": [
    "np.random.seed(138)\n",
    "shuffle_index = np.random.permutation(m)\n",
    "X_train, y_train = X_train[:,shuffle_index], y_train[:,shuffle_index] #veriyi karıştırıyor\n",
    "\n",
    "get_ipython().magic('matplotlib inline')\n",
    "import matplotlib\n",
    "import matplotlib.pyplot as plt\n",
    "\n"
   ]
  },
  {
   "cell_type": "code",
   "execution_count": 5,
   "metadata": {},
   "outputs": [
    {
     "data": {
      "image/png": "[encoded data removed]",
      "text/plain": [
       "<Figure size 432x288 with 1 Axes>"
      ]
     },
     "metadata": {
      "needs_background": "light"
     },
     "output_type": "display_data"
    },
    {
     "name": "stdout",
     "output_type": "stream",
     "text": [
      "[1.]\n"
     ]
    }
   ],
   "source": [
    "i = 3\n",
    "plt.imshow(X_train[:,i].reshape(28,28), cmap = matplotlib.cm.binary)\n",
    "plt.axis(\"off\")\n",
    "plt.show()\n",
    "print(y_train[:,i])\n",
    "\n",
    "\n"
   ]
  },
  {
   "cell_type": "code",
   "execution_count": 6,
   "metadata": {},
   "outputs": [],
   "source": [
    "def sigmoid(z):\n",
    "    s = 1 / (1 + np.exp(-z))\n",
    "    return s\n",
    "\n",
    "\n",
    "def compute_loss(Y, Y_hat): #gerçek çıktı, benim ürettiğim çıktı iki veri alıyor\n",
    "\n",
    "    m = Y.shape[1]\n",
    "    L = -(1./m) * ( np.sum( np.multiply(np.log(Y_hat),Y) ) + np.sum( np.multiply(np.log(1-Y_hat),(1-Y)) ) )\n",
    "\n",
    "    return L\n",
    "\n",
    "\n"
   ]
  },
  {
   "cell_type": "code",
   "execution_count": 7,
   "metadata": {},
   "outputs": [
    {
     "name": "stderr",
     "output_type": "stream",
     "text": [
      "C:\\Users\\HAVVANUR\\Anaconda3\\lib\\site-packages\\ipykernel_launcher.py:9: RuntimeWarning: divide by zero encountered in log\n",
      "  if __name__ == '__main__':\n",
      "C:\\Users\\HAVVANUR\\Anaconda3\\lib\\site-packages\\ipykernel_launcher.py:9: RuntimeWarning: invalid value encountered in multiply\n",
      "  if __name__ == '__main__':\n"
     ]
    },
    {
     "name": "stdout",
     "output_type": "stream",
     "text": [
      "Epoch 0 cost:  nan\n",
      "Epoch 5 cost:  nan\n",
      "Epoch 10 cost:  nan\n",
      "Epoch 15 cost:  nan\n",
      "Epoch 20 cost:  nan\n",
      "Epoch 25 cost:  nan\n",
      "Epoch 30 cost:  nan\n",
      "Epoch 35 cost:  nan\n",
      "Epoch 40 cost:  nan\n",
      "Epoch 45 cost:  nan\n",
      "Epoch 50 cost:  nan\n",
      "Epoch 55 cost:  nan\n",
      "Epoch 60 cost:  nan\n",
      "Epoch 65 cost:  nan\n",
      "Epoch 70 cost:  nan\n",
      "Epoch 75 cost:  nan\n",
      "Epoch 80 cost:  nan\n",
      "Epoch 85 cost:  nan\n",
      "Epoch 90 cost:  nan\n",
      "Epoch 95 cost:  nan\n",
      "Final cost: nan\n"
     ]
    }
   ],
   "source": [
    "learning_rate = 1\n",
    "\n",
    "X = X_train\n",
    "Y = y_train\n",
    "\n",
    "n_x = X.shape[0]\n",
    "m = X.shape[1]\n",
    "\n",
    "W = np.random.randn(n_x, 1) * 0.01\n",
    "b = np.zeros((1, 1))\n",
    "\n",
    "for i in range(100): #daha hızlı çalışması için range 2000 den 100 düşürdük\n",
    "    Z = np.matmul(W.T, X) + b\n",
    "    A = sigmoid(Z)\n",
    "\n",
    "    cost = compute_loss(Y, A)\n",
    "\n",
    "    dW = (1/m) * np.matmul(X, (A-Y).T)\n",
    "    db = (1/m) * np.sum(A-Y, axis=1, keepdims=True)\n",
    "\n",
    "    W = W - learning_rate * dW #eski degerleri yeni degerlere atadı\n",
    "    b = b - learning_rate * db\n",
    "\n",
    "    if (i % 5 == 0): #her 5 adımda bir rapor sun. her bir adımda hata azalmalıdır\n",
    "        print(\"Epoch\", i, \"cost: \", cost)\n",
    "\n",
    "print(\"Final cost:\", cost)\n",
    "\n"
   ]
  },
  {
   "cell_type": "code",
   "execution_count": 11,
   "metadata": {},
   "outputs": [
    {
     "name": "stdout",
     "output_type": "stream",
     "text": [
      "[[8916   45]\n",
      " [ 104  935]]\n",
      "              precision    recall  f1-score   support\n",
      "\n",
      "       False       0.99      0.99      0.99      8961\n",
      "        True       0.95      0.90      0.93      1039\n",
      "\n",
      "    accuracy                           0.99     10000\n",
      "   macro avg       0.97      0.95      0.96     10000\n",
      "weighted avg       0.98      0.99      0.98     10000\n",
      "\n"
     ]
    }
   ],
   "source": [
    "from sklearn.metrics import classification_report, confusion_matrix\n",
    "\n",
    "Z = np.matmul(W.T, X_test) + b\n",
    "A = sigmoid(Z)\n",
    "\n",
    "predictions = (A>.5)[0,:]\n",
    "labels = (y_test == 1)[0,:]\n",
    "\n",
    "print(confusion_matrix(predictions, labels)) #dogru ve yanlış class bilgisini sunuyor \n",
    "\n",
    "#burda bir matris olustu ve doğru class ve yanlıs class bilgisini verdi, ikisinin toplamı dogru sonucu vermesi gerekiyor\n",
    "#confision matris olarak geçiyor.\n",
    "  # A     B\n",
    "# A 9000  70\n",
    "# B 40    800 BURDA 9000 ve 800 doğru degerler oldu. Bir şekilde performans ölçüldü.\n",
    "\n",
    "\n",
    "print(classification_report(predictions, labels))\n",
    "# yine hata ölçüm yöntemleri\n",
    "\n"
   ]
  },
  {
   "cell_type": "code",
   "execution_count": 12,
   "metadata": {},
   "outputs": [
    {
     "name": "stdout",
     "output_type": "stream",
     "text": [
      "Epoch 0 cost:  1.0370692800139762\n",
      "Epoch 10 cost:  0.31780578921129554\n",
      "Epoch 20 cost:  0.2207180936697868\n",
      "Epoch 30 cost:  0.18060323497652966\n",
      "Epoch 40 cost:  0.15851330145134468\n",
      "Final cost: 0.1445138417886336\n"
     ]
    }
   ],
   "source": [
    "#Bir One Hidden Layer Ekledik\n",
    "\n",
    "X = X_train\n",
    "Y = y_train\n",
    "\n",
    "n_x = X.shape[0]\n",
    "n_h = 64\n",
    "learning_rate = 1\n",
    "\n",
    "W1 = np.random.randn(n_h, n_x)\n",
    "b1 = np.zeros((n_h, 1))\n",
    "W2 = np.random.randn(1, n_h)\n",
    "b2 = np.zeros((1, 1))\n",
    "\n",
    "for i in range(50):\n",
    "\n",
    "    Z1 = np.matmul(W1, X) + b1\n",
    "    A1 = sigmoid(Z1)\n",
    "    Z2 = np.matmul(W2, A1) + b2\n",
    "    A2 = sigmoid(Z2)\n",
    "\n",
    "    cost = compute_loss(Y, A2)\n",
    "\n",
    "    dZ2 = A2-Y\n",
    "    dW2 = (1./m) * np.matmul(dZ2, A1.T)\n",
    "    db2 = (1./m) * np.sum(dZ2, axis=1, keepdims=True)\n",
    "\n",
    "    dA1 = np.matmul(W2.T, dZ2)\n",
    "    dZ1 = dA1 * sigmoid(Z1) * (1 - sigmoid(Z1))\n",
    "    dW1 = (1./m) * np.matmul(dZ1, X.T)\n",
    "    db1 = (1./m) * np.sum(dZ1, axis=1, keepdims=True)\n",
    "\n",
    "    W2 = W2 - learning_rate * dW2\n",
    "    b2 = b2 - learning_rate * db2\n",
    "    W1 = W1 - learning_rate * dW1\n",
    "    b1 = b1 - learning_rate * db1\n",
    "\n",
    "    if i % 10 == 0:\n",
    "        print(\"Epoch\", i, \"cost: \", cost)\n",
    "\n",
    "print(\"Final cost:\", cost)\n"
   ]
  },
  {
   "cell_type": "code",
   "execution_count": null,
   "metadata": {},
   "outputs": [],
   "source": []
  }
 ],
 "metadata": {
  "kernelspec": {
   "display_name": "Python 3",
   "language": "python",
   "name": "python3"
  },
  "language_info": {
   "codemirror_mode": {
    "name": "ipython",
    "version": 3
   },
   "file_extension": ".py",
   "mimetype": "text/x-python",
   "name": "python",
   "nbconvert_exporter": "python",
   "pygments_lexer": "ipython3",
   "version": "3.7.3"
  }
 },
 "nbformat": 4,
 "nbformat_minor": 2
}
